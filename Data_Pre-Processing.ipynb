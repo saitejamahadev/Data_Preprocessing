{
 "cells": [
  {
   "cell_type": "markdown",
   "metadata": {},
   "source": [
    "# Loading the Required Dependencies."
   ]
  },
  {
   "cell_type": "code",
   "execution_count": 184,
   "metadata": {},
   "outputs": [],
   "source": [
    "import os\n",
    "import re\n",
    "import pickle\n",
    "import pandas as pd\n",
    "from sklearn.datasets import load_files\n",
    "path = 'E:/Chrome Downloads/aclImdb_v1/aclImdb/train/'"
   ]
  },
  {
   "cell_type": "markdown",
   "metadata": {},
   "source": [
    "# Importing the Data.\n",
    "* Dataset has train folder with positive and negative reviews.\n",
    "* Laoding Postive and Negative separately and analysing each review."
   ]
  },
  {
   "cell_type": "code",
   "execution_count": 69,
   "metadata": {},
   "outputs": [
    {
     "name": "stdout",
     "output_type": "stream",
     "text": [
      "Bromwell High is a cartoon comedy. It ran at the same time as some other programs about school life, such as \"Teachers\". My 35 years in the teaching profession lead me to believe that Bromwell High's satire is much closer to reality than is \"Teachers\". The scramble to survive financially, the insightful students who can see right through their pathetic teachers' pomp, the pettiness of the whole situation, all remind me of the schools I knew and their students. When I saw the episode in which a student repeatedly tried to burn down the school, I immediately recalled ......... at .......... High. A classic line: INSPECTOR: I'm here to sack one of your teachers. STUDENT: Welcome to Bromwell High. I expect that many adults of my age think that Bromwell High is far fetched. What a pity that it isn't!\n"
     ]
    }
   ],
   "source": [
    "for file_name in os.listdir(path+'pos'):\n",
    "    print(open(path+'pos'+'/'+file_name).read())\n",
    "    break"
   ]
  },
  {
   "cell_type": "code",
   "execution_count": 71,
   "metadata": {},
   "outputs": [
    {
     "name": "stdout",
     "output_type": "stream",
     "text": [
      "Story of a man who has unnatural feelings for a pig. Starts out with a opening scene that is a terrific example of absurd comedy. A formal orchestra audience is turned into an insane, violent mob by the crazy chantings of it's singers. Unfortunately it stays absurd the WHOLE time with no general narrative eventually making it just too off putting. Even those from the era should be turned off. The cryptic dialogue would make Shakespeare seem easy to a third grader. On a technical level it's better than you might think with some good cinematography by future great Vilmos Zsigmond. Future stars Sally Kirkland and Frederic Forrest can be seen briefly.\n"
     ]
    }
   ],
   "source": [
    "for file_name in os.listdir(path+'neg'):\n",
    "    print(open(path+'neg'+'/'+file_name).read())\n",
    "    break"
   ]
  },
  {
   "cell_type": "markdown",
   "metadata": {},
   "source": [
    "# Preparing the dataset for Positive and Negative reviews and labelling it !\n",
    "* Data set has postive and negative reviews with different ratings. We will label all the postive reviews by '1' and all the negative reviews by '0'."
   ]
  },
  {
   "cell_type": "code",
   "execution_count": 95,
   "metadata": {},
   "outputs": [],
   "source": [
    "Review = []\n",
    "Rating = []\n",
    "for file_name in os.listdir(path+'pos'):\n",
    "    comment =  open(path+'pos'+'/'+file_name,'r',encoding=\"ISO-8859-1\").read()\n",
    "    Review.append(comment)\n",
    "    Rating.append(\"1\")"
   ]
  },
  {
   "cell_type": "code",
   "execution_count": 97,
   "metadata": {},
   "outputs": [],
   "source": [
    "for file_name in os.listdir(path+'neg'):\n",
    "    comment =  open(path+'neg'+'/'+file_name,'r',encoding=\"ISO-8859-1\").read()\n",
    "    Review.append(comment)\n",
    "    Rating.append(\"0\")"
   ]
  },
  {
   "cell_type": "markdown",
   "metadata": {},
   "source": [
    "# Constructing Data Frame from lists we have generated"
   ]
  },
  {
   "cell_type": "code",
   "execution_count": 170,
   "metadata": {},
   "outputs": [],
   "source": [
    "data = pd.DataFrame(list(zip(Review,Rating)),columns=['Review','Rating'])"
   ]
  },
  {
   "cell_type": "code",
   "execution_count": 171,
   "metadata": {},
   "outputs": [
    {
     "data": {
      "text/plain": [
       "'Homelessness (or Houselessness as George Carlin stated) has been an issue for years but never a plan to help those on the street that were once considered human who did everything from going to school, work, or vote for the matter. Most people think of the homeless as just a lost cause while worrying about things such as racism, the war on Iraq, pressuring kids to succeed, technology, the elections, inflation, or worrying if they\\'ll be next to end up on the streets.<br /><br />But what if you were given a bet to live on the streets for a month without the luxuries you once had from a home, the entertainment sets, a bathroom, pictures on the wall, a computer, and everything you once treasure to see what it\\'s like to be homeless? That is Goddard Bolt\\'s lesson.<br /><br />Mel Brooks (who directs) who stars as Bolt plays a rich man who has everything in the world until deciding to make a bet with a sissy rival (Jeffery Tambor) to see if he can live in the streets for thirty days without the luxuries; if Bolt succeeds, he can do what he wants with a future project of making more buildings. The bet\\'s on where Bolt is thrown on the street with a bracelet on his leg to monitor his every move where he can\\'t step off the sidewalk. He\\'s given the nickname Pepto by a vagrant after it\\'s written on his forehead where Bolt meets other characters including a woman by the name of Molly (Lesley Ann Warren) an ex-dancer who got divorce before losing her home, and her pals Sailor (Howard Morris) and Fumes (Teddy Wilson) who are already used to the streets. They\\'re survivors. Bolt isn\\'t. He\\'s not used to reaching mutual agreements like he once did when being rich where it\\'s fight or flight, kill or be killed.<br /><br />While the love connection between Molly and Bolt wasn\\'t necessary to plot, I found \"Life Stinks\" to be one of Mel Brooks\\' observant films where prior to being a comedy, it shows a tender side compared to his slapstick work such as Blazing Saddles, Young Frankenstein, or Spaceballs for the matter, to show what it\\'s like having something valuable before losing it the next day or on the other hand making a stupid bet like all rich people do when they don\\'t know what to do with their money. Maybe they should give it to the homeless instead of using it like Monopoly money.<br /><br />Or maybe this film will inspire you to help others.'"
      ]
     },
     "execution_count": 171,
     "metadata": {},
     "output_type": "execute_result"
    }
   ],
   "source": [
    "data.Review[1]"
   ]
  },
  {
   "cell_type": "markdown",
   "metadata": {},
   "source": [
    "# Pre-processing the Review comments.\n",
    "* From above we could see that each review data needs cleaning as it has many sepcial characters and unwanted symbols.\n",
    "* So, Following we use Regular expressions to clean the data .\n",
    "* Dataset is large so lets first apply the cleaing on one review and then cascade to entire dataset"
   ]
  },
  {
   "cell_type": "code",
   "execution_count": 172,
   "metadata": {},
   "outputs": [],
   "source": [
    "test = data.Review[1]"
   ]
  },
  {
   "cell_type": "code",
   "execution_count": 181,
   "metadata": {},
   "outputs": [
    {
     "data": {
      "text/plain": [
       "'Homelessness Houselessness as George Carlin stated has been an issue fo years but neve plan to help those on the street that were once considered human who did everything from going to school work vote fo the matte Most people think of the homeless as just lost cause while worrying about things such as racism the wa on Iraq pressuring kids to succeed technology the elections inflation worrying if they ll be next to end up on the streets b But what if you were given bet to live on the streets fo month without the luxuries you once had from home the entertainment sets bathroom pictures on the wall compute and everything you once treasure to see what it like to be homeless That is Goddard Bolt lesson b Mel Brooks who directs who stars as Bolt plays rich man who has everything in the world until deciding to make bet with sissy rival Jeffery Tambo to see if he can live in the streets fo thirty days without the luxuries if Bolt succeeds he can do what he wants with future project of making more buildings The bet on where Bolt is thrown on the street with bracelet on his leg to monito his every move where he can step off the sidewalk He given the nickname Pepto by vagrant afte it written on his forehead where Bolt meets othe characters including woman by the name of Molly Lesley Ann Warren an ex dance who got divorce before losing he home and he pals Sailo Howard Morris and Fumes Teddy Wilson who are already used to the streets They re survivors Bolt isn He not used to reaching mutual agreements like he once did when being rich where it fight flight kill be killed b While the love connection between Molly and Bolt wasn necessary to plot I found Life Stinks to be one of Mel Brooks observant films where prio to being comedy it shows tende side compared to his slapstick work such as Blazing Saddles Young Frankenstein Spaceballs fo the matte to show what it like having something valuable before losing it the next day on the othe hand making stupid bet like all rich people do when they don know what to do with thei money Maybe they should give it to the homeless instead of using it like Monopoly money b O maybe this film will inspire you to help others '"
      ]
     },
     "execution_count": 181,
     "metadata": {},
     "output_type": "execute_result"
    }
   ],
   "source": [
    "test_clean_1 = re.sub(r'\\W',' ',test)\n",
    "test_clean_2= re.sub(r'[br]\\s+',' ',test_clean_1)\n",
    "test_clean_3 = re.sub(r'\\s+[a-z]\\s+',' ',test_clean_2)\n",
    "test_clean_4 = re.sub(r'\\s+',' ',test_clean_3)\n",
    "test_clean_5 = re.sub(r'\\d','',test_clean_4)\n",
    "test_clean_5"
   ]
  },
  {
   "cell_type": "code",
   "execution_count": 182,
   "metadata": {},
   "outputs": [],
   "source": [
    "for i in range(len(data.Review)):\n",
    "    data.Review[i] = re.sub(r'\\W',' ',data.Review[i])            #Remove all the Non-WOrd characters i.e special characters\n",
    "    data.Review[i] = re.sub(r'[br]\\s+',' ',data.Review[i])       #Remove'br' s present in the text\n",
    "    data.Review[i] = re.sub(r'\\s+[a-z]\\s+', ' ',data.Review[i])  #Remove any single characters present in the text.\n",
    "    data.Review[i] = re.sub(r'\\s+',' ',data.Review[i])           #Replace all one or more than one spaces with single space.\n",
    "    data.Review[i] = re.sub(r'\\d','',data.Review[i])             #Remove all the digits\n",
    "    \n",
    "    "
   ]
  },
  {
   "cell_type": "code",
   "execution_count": 185,
   "metadata": {},
   "outputs": [
    {
     "data": {
      "text/plain": [
       "'Homelessness Houselessness as George Carlin stated has been an issue fo years but neve plan to help those on the street that were once considered human who did everything from going to school work vote fo the matte Most people think of the homeless as just lost cause while worrying about things such as racism the wa on Iraq pressuring kids to succeed technology the elections inflation worrying if they ll be next to end up on the streets b But what if you were given bet to live on the streets fo month without the luxuries you once had from home the entertainment sets bathroom pictures on the wall compute and everything you once treasure to see what it like to be homeless That is Goddard Bolt lesson b Mel Brooks who directs who stars as Bolt plays rich man who has everything in the world until deciding to make bet with sissy rival Jeffery Tambo to see if he can live in the streets fo thirty days without the luxuries if Bolt succeeds he can do what he wants with future project of making more buildings The bet on where Bolt is thrown on the street with bracelet on his leg to monito his every move where he can step off the sidewalk He given the nickname Pepto by vagrant afte it written on his forehead where Bolt meets othe characters including woman by the name of Molly Lesley Ann Warren an ex dance who got divorce before losing he home and he pals Sailo Howard Morris and Fumes Teddy Wilson who are already used to the streets They re survivors Bolt isn He not used to reaching mutual agreements like he once did when being rich where it fight flight kill be killed b While the love connection between Molly and Bolt wasn necessary to plot I found Life Stinks to be one of Mel Brooks observant films where prio to being comedy it shows tende side compared to his slapstick work such as Blazing Saddles Young Frankenstein Spaceballs fo the matte to show what it like having something valuable before losing it the next day on the othe hand making stupid bet like all rich people do when they don know what to do with thei money Maybe they should give it to the homeless instead of using it like Monopoly money b O maybe this film will inspire you to help others '"
      ]
     },
     "execution_count": 185,
     "metadata": {},
     "output_type": "execute_result"
    }
   ],
   "source": [
    "data.Review[1]"
   ]
  },
  {
   "cell_type": "markdown",
   "metadata": {},
   "source": [
    "# Saving to Pickle file to avoid time for preprocessing.\n",
    "* Since Dataset is very large , its computationally very expensive to run the pre-processing steps every time.\n",
    "* So, saving the cleaned data into a file , it can be loaded and usd for further processing.\n",
    "* we can use . pickle format to store the data into file."
   ]
  },
  {
   "cell_type": "code",
   "execution_count": 187,
   "metadata": {},
   "outputs": [],
   "source": [
    "with open('Imdb_data.pickle','wb') as f :\n",
    "    pickle.dump(data,f)"
   ]
  },
  {
   "cell_type": "markdown",
   "metadata": {},
   "source": [
    "# Unloading from Pickle file.\n"
   ]
  },
  {
   "cell_type": "code",
   "execution_count": 190,
   "metadata": {},
   "outputs": [
    {
     "data": {
      "text/html": [
       "<div>\n",
       "<style scoped>\n",
       "    .dataframe tbody tr th:only-of-type {\n",
       "        vertical-align: middle;\n",
       "    }\n",
       "\n",
       "    .dataframe tbody tr th {\n",
       "        vertical-align: top;\n",
       "    }\n",
       "\n",
       "    .dataframe thead th {\n",
       "        text-align: right;\n",
       "    }\n",
       "</style>\n",
       "<table border=\"1\" class=\"dataframe\">\n",
       "  <thead>\n",
       "    <tr style=\"text-align: right;\">\n",
       "      <th></th>\n",
       "      <th>Review</th>\n",
       "      <th>Rating</th>\n",
       "    </tr>\n",
       "  </thead>\n",
       "  <tbody>\n",
       "    <tr>\n",
       "      <th>0</th>\n",
       "      <td>Bromwell High is cartoon comedy It ran at the ...</td>\n",
       "      <td>1</td>\n",
       "    </tr>\n",
       "    <tr>\n",
       "      <th>1</th>\n",
       "      <td>Homelessness Houselessness as George Carlin st...</td>\n",
       "      <td>1</td>\n",
       "    </tr>\n",
       "    <tr>\n",
       "      <th>2</th>\n",
       "      <td>Brilliant ove acting by Lesley Ann Warren Best...</td>\n",
       "      <td>1</td>\n",
       "    </tr>\n",
       "    <tr>\n",
       "      <th>3</th>\n",
       "      <td>This is easily the most underrated film inn th...</td>\n",
       "      <td>1</td>\n",
       "    </tr>\n",
       "    <tr>\n",
       "      <th>4</th>\n",
       "      <td>This is not the typical Mel Brooks film It was...</td>\n",
       "      <td>1</td>\n",
       "    </tr>\n",
       "  </tbody>\n",
       "</table>\n",
       "</div>"
      ],
      "text/plain": [
       "                                              Review Rating\n",
       "0  Bromwell High is cartoon comedy It ran at the ...      1\n",
       "1  Homelessness Houselessness as George Carlin st...      1\n",
       "2  Brilliant ove acting by Lesley Ann Warren Best...      1\n",
       "3  This is easily the most underrated film inn th...      1\n",
       "4  This is not the typical Mel Brooks film It was...      1"
      ]
     },
     "execution_count": 190,
     "metadata": {},
     "output_type": "execute_result"
    }
   ],
   "source": [
    "test_load_un = open('Imdb_data.pickle','rb')\n",
    "test_load = pickle.load(test_load_un)\n",
    "test_load.head()"
   ]
  }
 ],
 "metadata": {
  "kernelspec": {
   "display_name": "Python 3",
   "language": "python",
   "name": "python3"
  },
  "language_info": {
   "codemirror_mode": {
    "name": "ipython",
    "version": 3
   },
   "file_extension": ".py",
   "mimetype": "text/x-python",
   "name": "python",
   "nbconvert_exporter": "python",
   "pygments_lexer": "ipython3",
   "version": "3.6.8"
  }
 },
 "nbformat": 4,
 "nbformat_minor": 2
}
